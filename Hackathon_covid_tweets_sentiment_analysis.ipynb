{
  "nbformat": 4,
  "nbformat_minor": 0,
  "metadata": {
    "colab": {
      "name": "Hackathon_covid_tweets_sentiment_analysis.ipynb",
      "provenance": [],
      "collapsed_sections": []
    },
    "kernelspec": {
      "name": "python3",
      "display_name": "Python 3"
    }
  },
  "cells": [
    {
      "cell_type": "code",
      "metadata": {
        "id": "srudE8zlaZWp",
        "colab_type": "code",
        "colab": {
          "resources": {
            "http://localhost:8080/nbextensions/google.colab/files.js": {
              "data": "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",
              "ok": true,
              "headers": [
                [
                  "content-type",
                  "application/javascript"
                ]
              ],
              "status": 200,
              "status_text": ""
            }
          },
          "base_uri": "https://localhost:8080/",
          "height": 72
        },
        "outputId": "070b9b38-4ed0-4a72-c5c5-b3fee3f4c5f0"
      },
      "source": [
        "from google.colab import files\n",
        "files.upload()"
      ],
      "execution_count": null,
      "outputs": [
        {
          "output_type": "display_data",
          "data": {
            "text/html": [
              "\n",
              "     <input type=\"file\" id=\"files-0584e583-eed9-4b2f-9db0-eeb668f16352\" name=\"files[]\" multiple disabled\n",
              "        style=\"border:none\" />\n",
              "     <output id=\"result-0584e583-eed9-4b2f-9db0-eeb668f16352\">\n",
              "      Upload widget is only available when the cell has been executed in the\n",
              "      current browser session. Please rerun this cell to enable.\n",
              "      </output>\n",
              "      <script src=\"/nbextensions/google.colab/files.js\"></script> "
            ],
            "text/plain": [
              "<IPython.core.display.HTML object>"
            ]
          },
          "metadata": {
            "tags": []
          }
        },
        {
          "output_type": "stream",
          "text": [
            "Saving Coronavirus_Tweets.csv to Coronavirus_Tweets.csv\n"
          ],
          "name": "stdout"
        }
      ]
    },
    {
      "cell_type": "code",
      "metadata": {
        "id": "QMWeX5HfdbRF",
        "colab_type": "code",
        "colab": {}
      },
      "source": [
        "import pandas as pd\n",
        "dataset = pd.read_csv('/content/Coronavirus_Tweets.csv', encoding = 'latin-1')"
      ],
      "execution_count": null,
      "outputs": []
    },
    {
      "cell_type": "code",
      "metadata": {
        "id": "yyqs2l4119CB",
        "colab_type": "code",
        "colab": {
          "base_uri": "https://localhost:8080/",
          "height": 428
        },
        "outputId": "15a72c6a-89a6-451d-b04b-b6cffe2107be"
      },
      "source": [
        "dataset.tail(5)"
      ],
      "execution_count": null,
      "outputs": [
        {
          "output_type": "execute_result",
          "data": {
            "text/html": [
              "<div>\n",
              "<style scoped>\n",
              "    .dataframe tbody tr th:only-of-type {\n",
              "        vertical-align: middle;\n",
              "    }\n",
              "\n",
              "    .dataframe tbody tr th {\n",
              "        vertical-align: top;\n",
              "    }\n",
              "\n",
              "    .dataframe thead th {\n",
              "        text-align: right;\n",
              "    }\n",
              "</style>\n",
              "<table border=\"1\" class=\"dataframe\">\n",
              "  <thead>\n",
              "    <tr style=\"text-align: right;\">\n",
              "      <th></th>\n",
              "      <th>status_id</th>\n",
              "      <th>user_id</th>\n",
              "      <th>created_at</th>\n",
              "      <th>screen_name</th>\n",
              "      <th>text</th>\n",
              "      <th>source</th>\n",
              "      <th>reply_to_status_id</th>\n",
              "      <th>reply_to_user_id</th>\n",
              "      <th>reply_to_screen_name</th>\n",
              "      <th>is_quote</th>\n",
              "      <th>is_retweet</th>\n",
              "      <th>favourites_count</th>\n",
              "      <th>retweet_count</th>\n",
              "      <th>country_code</th>\n",
              "      <th>place_full_name</th>\n",
              "      <th>place_type</th>\n",
              "      <th>followers_count</th>\n",
              "      <th>friends_count</th>\n",
              "      <th>account_lang</th>\n",
              "      <th>account_created_at</th>\n",
              "      <th>verified</th>\n",
              "      <th>lang</th>\n",
              "    </tr>\n",
              "  </thead>\n",
              "  <tbody>\n",
              "    <tr>\n",
              "      <th>564136</th>\n",
              "      <td>1244414024395218947</td>\n",
              "      <td>1028783469399367682</td>\n",
              "      <td>2020-03-29T23:59:58Z</td>\n",
              "      <td>tmcrypto1</td>\n",
              "      <td>A 3rd #NYPD member dies of #coronavirus after ...</td>\n",
              "      <td>Twitter for iPhone</td>\n",
              "      <td>NaN</td>\n",
              "      <td>NaN</td>\n",
              "      <td>NaN</td>\n",
              "      <td>False</td>\n",
              "      <td>False</td>\n",
              "      <td>2526</td>\n",
              "      <td>0</td>\n",
              "      <td>NaN</td>\n",
              "      <td>NaN</td>\n",
              "      <td>NaN</td>\n",
              "      <td>85</td>\n",
              "      <td>123</td>\n",
              "      <td>NaN</td>\n",
              "      <td>2018-08-12T23:21:07Z</td>\n",
              "      <td>False</td>\n",
              "      <td>en</td>\n",
              "    </tr>\n",
              "    <tr>\n",
              "      <th>564137</th>\n",
              "      <td>1244414030011400192</td>\n",
              "      <td>81191957</td>\n",
              "      <td>2020-03-29T23:59:59Z</td>\n",
              "      <td>CALcharters</td>\n",
              "      <td>For many students in our state, #COVID19 closu...</td>\n",
              "      <td>HubSpot</td>\n",
              "      <td>NaN</td>\n",
              "      <td>NaN</td>\n",
              "      <td>NaN</td>\n",
              "      <td>False</td>\n",
              "      <td>False</td>\n",
              "      <td>4656</td>\n",
              "      <td>2</td>\n",
              "      <td>NaN</td>\n",
              "      <td>NaN</td>\n",
              "      <td>NaN</td>\n",
              "      <td>8104</td>\n",
              "      <td>2798</td>\n",
              "      <td>NaN</td>\n",
              "      <td>2009-10-09T20:10:36Z</td>\n",
              "      <td>True</td>\n",
              "      <td>en</td>\n",
              "    </tr>\n",
              "    <tr>\n",
              "      <th>564138</th>\n",
              "      <td>1244414029864603657</td>\n",
              "      <td>61206610</td>\n",
              "      <td>2020-03-29T23:59:59Z</td>\n",
              "      <td>npquarterly</td>\n",
              "      <td>Will the #coronavirus pandemic of 2020 come to...</td>\n",
              "      <td>HubSpot</td>\n",
              "      <td>NaN</td>\n",
              "      <td>NaN</td>\n",
              "      <td>NaN</td>\n",
              "      <td>False</td>\n",
              "      <td>False</td>\n",
              "      <td>2916</td>\n",
              "      <td>2</td>\n",
              "      <td>NaN</td>\n",
              "      <td>NaN</td>\n",
              "      <td>NaN</td>\n",
              "      <td>127869</td>\n",
              "      <td>3046</td>\n",
              "      <td>NaN</td>\n",
              "      <td>2009-07-29T14:27:16Z</td>\n",
              "      <td>False</td>\n",
              "      <td>en</td>\n",
              "    </tr>\n",
              "    <tr>\n",
              "      <th>564139</th>\n",
              "      <td>1244414029189148672</td>\n",
              "      <td>259814704</td>\n",
              "      <td>2020-03-29T23:59:59Z</td>\n",
              "      <td>ksharizal</td>\n",
              "      <td>Tahniah #xaffani #xaffanisrikandi semoga our f...</td>\n",
              "      <td>Twitter for Android</td>\n",
              "      <td>NaN</td>\n",
              "      <td>NaN</td>\n",
              "      <td>NaN</td>\n",
              "      <td>False</td>\n",
              "      <td>False</td>\n",
              "      <td>1169</td>\n",
              "      <td>0</td>\n",
              "      <td>NaN</td>\n",
              "      <td>NaN</td>\n",
              "      <td>NaN</td>\n",
              "      <td>413</td>\n",
              "      <td>175</td>\n",
              "      <td>NaN</td>\n",
              "      <td>2011-03-02T17:12:10Z</td>\n",
              "      <td>False</td>\n",
              "      <td>in</td>\n",
              "    </tr>\n",
              "    <tr>\n",
              "      <th>564140</th>\n",
              "      <td>1244414030418067456</td>\n",
              "      <td>938881148792348672</td>\n",
              "      <td>2020-03-29T23:59:59Z</td>\n",
              "      <td>MeL8tleigh</td>\n",
              "      <td>ð¤¦ð»ââï¸ Is there a way to revoke som...</td>\n",
              "      <td>Twitter for iPhone</td>\n",
              "      <td>NaN</td>\n",
              "      <td>NaN</td>\n",
              "      <td>NaN</td>\n",
              "      <td>True</td>\n",
              "      <td>False</td>\n",
              "      <td>35055</td>\n",
              "      <td>0</td>\n",
              "      <td>NaN</td>\n",
              "      <td>NaN</td>\n",
              "      <td>NaN</td>\n",
              "      <td>302</td>\n",
              "      <td>384</td>\n",
              "      <td>NaN</td>\n",
              "      <td>2017-12-07T21:21:24Z</td>\n",
              "      <td>False</td>\n",
              "      <td>en</td>\n",
              "    </tr>\n",
              "  </tbody>\n",
              "</table>\n",
              "</div>"
            ],
            "text/plain": [
              "                  status_id              user_id  ... verified lang\n",
              "564136  1244414024395218947  1028783469399367682  ...    False   en\n",
              "564137  1244414030011400192             81191957  ...     True   en\n",
              "564138  1244414029864603657             61206610  ...    False   en\n",
              "564139  1244414029189148672            259814704  ...    False   in\n",
              "564140  1244414030418067456   938881148792348672  ...    False   en\n",
              "\n",
              "[5 rows x 22 columns]"
            ]
          },
          "metadata": {
            "tags": []
          },
          "execution_count": 3
        }
      ]
    },
    {
      "cell_type": "markdown",
      "metadata": {
        "id": "mmW5KCVTOxwX",
        "colab_type": "text"
      },
      "source": [
        "**Importing libraries**"
      ]
    },
    {
      "cell_type": "code",
      "metadata": {
        "id": "x3IL3VrAPCvu",
        "colab_type": "code",
        "colab": {
          "base_uri": "https://localhost:8080/",
          "height": 102
        },
        "outputId": "923af279-c870-478e-e31d-061c1bfa5a70"
      },
      "source": [
        "import io\n",
        "import os\n",
        "import random\n",
        "import string\n",
        "import re\n",
        "import warnings\n",
        "warnings.filterwarnings('ignore')\n",
        "import numpy as np    # linear algebra\n",
        "import pandas as pd   # data preprocessing\n",
        "import matplotlib.pyplot as plt  # data visualization library\n",
        "%matplotlib inline\n",
        "import seaborn as sns  # an interactive data visualization library made on top of matplotlib\n",
        "\n",
        "# importing nltk and its modules\n",
        "import nltk\n",
        "nltk.download('punkt')\n",
        "nltk.download('stopwords')\n",
        "nltk.download('vader_lexicon')\n",
        "from nltk.corpus import words\n",
        "from nltk.corpus import stopwords\n",
        "from nltk.tokenize import sent_tokenize\n",
        "from nltk.tokenize import word_tokenize\n",
        "from nltk.stem import WordNetLemmatizer\n",
        "from nltk.stem import PorterStemmer\n",
        "from nltk.sentiment.vader import SentimentIntensityAnalyzer\n",
        "from nltk.sentiment.util import *\n",
        "\n",
        "# importing sklearn and its modules\n",
        "from sklearn import feature_extraction, preprocessing, model_selection, linear_model\n",
        "from sklearn.feature_extraction.text import CountVectorizer\n",
        "from sklearn.feature_extraction.text import TfidfVectorizer\n",
        "from sklearn.naive_bayes import MultinomialNB\n",
        "from sklearn.linear_model import LogisticRegression\n",
        "from sklearn.metrics import confusion_matrix, classification_report, f1_score\n",
        "\n",
        "from wordcloud import WordCloud, STOPWORDS, ImageColorGenerator\n",
        "from tqdm import tqdm_notebook\n",
        "\n",
        "# saving models\n",
        "import pickle\n",
        "\n",
        "# importing textblob\n",
        "from textblob import TextBlob\n",
        "from textblob import Word"
      ],
      "execution_count": null,
      "outputs": [
        {
          "output_type": "stream",
          "text": [
            "[nltk_data] Downloading package punkt to /root/nltk_data...\n",
            "[nltk_data]   Package punkt is already up-to-date!\n",
            "[nltk_data] Downloading package stopwords to /root/nltk_data...\n",
            "[nltk_data]   Package stopwords is already up-to-date!\n",
            "[nltk_data] Downloading package vader_lexicon to /root/nltk_data...\n"
          ],
          "name": "stdout"
        }
      ]
    },
    {
      "cell_type": "markdown",
      "metadata": {
        "id": "IdnLiu5Bg3gV",
        "colab_type": "text"
      },
      "source": [
        "Data analysis"
      ]
    },
    {
      "cell_type": "code",
      "metadata": {
        "id": "opMUY57xPTe_",
        "colab_type": "code",
        "colab": {
          "base_uri": "https://localhost:8080/",
          "height": 317
        },
        "outputId": "ce824f50-23e6-43d4-a6d4-531d5effe992"
      },
      "source": [
        "dataset.describe()"
      ],
      "execution_count": null,
      "outputs": [
        {
          "output_type": "execute_result",
          "data": {
            "text/html": [
              "<div>\n",
              "<style scoped>\n",
              "    .dataframe tbody tr th:only-of-type {\n",
              "        vertical-align: middle;\n",
              "    }\n",
              "\n",
              "    .dataframe tbody tr th {\n",
              "        vertical-align: top;\n",
              "    }\n",
              "\n",
              "    .dataframe thead th {\n",
              "        text-align: right;\n",
              "    }\n",
              "</style>\n",
              "<table border=\"1\" class=\"dataframe\">\n",
              "  <thead>\n",
              "    <tr style=\"text-align: right;\">\n",
              "      <th></th>\n",
              "      <th>status_id</th>\n",
              "      <th>user_id</th>\n",
              "      <th>reply_to_status_id</th>\n",
              "      <th>reply_to_user_id</th>\n",
              "      <th>favourites_count</th>\n",
              "      <th>retweet_count</th>\n",
              "      <th>followers_count</th>\n",
              "      <th>friends_count</th>\n",
              "      <th>account_lang</th>\n",
              "    </tr>\n",
              "  </thead>\n",
              "  <tbody>\n",
              "    <tr>\n",
              "      <th>count</th>\n",
              "      <td>5.641410e+05</td>\n",
              "      <td>5.641410e+05</td>\n",
              "      <td>7.596700e+04</td>\n",
              "      <td>9.083400e+04</td>\n",
              "      <td>5.641410e+05</td>\n",
              "      <td>564141.000000</td>\n",
              "      <td>5.641410e+05</td>\n",
              "      <td>5.641410e+05</td>\n",
              "      <td>0.0</td>\n",
              "    </tr>\n",
              "    <tr>\n",
              "      <th>mean</th>\n",
              "      <td>1.244256e+18</td>\n",
              "      <td>3.509791e+17</td>\n",
              "      <td>1.243489e+18</td>\n",
              "      <td>2.328710e+17</td>\n",
              "      <td>1.303235e+04</td>\n",
              "      <td>4.523367</td>\n",
              "      <td>4.694870e+04</td>\n",
              "      <td>2.028971e+03</td>\n",
              "      <td>NaN</td>\n",
              "    </tr>\n",
              "    <tr>\n",
              "      <th>std</th>\n",
              "      <td>1.009210e+14</td>\n",
              "      <td>5.005893e+17</td>\n",
              "      <td>1.656581e+16</td>\n",
              "      <td>4.318633e+17</td>\n",
              "      <td>4.064032e+04</td>\n",
              "      <td>97.541022</td>\n",
              "      <td>4.581481e+05</td>\n",
              "      <td>1.023677e+04</td>\n",
              "      <td>NaN</td>\n",
              "    </tr>\n",
              "    <tr>\n",
              "      <th>min</th>\n",
              "      <td>1.244052e+18</td>\n",
              "      <td>1.890000e+02</td>\n",
              "      <td>6.944339e+16</td>\n",
              "      <td>1.200000e+01</td>\n",
              "      <td>0.000000e+00</td>\n",
              "      <td>0.000000</td>\n",
              "      <td>0.000000e+00</td>\n",
              "      <td>0.000000e+00</td>\n",
              "      <td>NaN</td>\n",
              "    </tr>\n",
              "    <tr>\n",
              "      <th>25%</th>\n",
              "      <td>1.244174e+18</td>\n",
              "      <td>1.835883e+08</td>\n",
              "      <td>1.244064e+18</td>\n",
              "      <td>5.254428e+07</td>\n",
              "      <td>2.380000e+02</td>\n",
              "      <td>0.000000</td>\n",
              "      <td>1.190000e+02</td>\n",
              "      <td>1.420000e+02</td>\n",
              "      <td>NaN</td>\n",
              "    </tr>\n",
              "    <tr>\n",
              "      <th>50%</th>\n",
              "      <td>1.244275e+18</td>\n",
              "      <td>1.371141e+09</td>\n",
              "      <td>1.244215e+18</td>\n",
              "      <td>3.717971e+08</td>\n",
              "      <td>1.891000e+03</td>\n",
              "      <td>0.000000</td>\n",
              "      <td>6.570000e+02</td>\n",
              "      <td>4.840000e+02</td>\n",
              "      <td>NaN</td>\n",
              "    </tr>\n",
              "    <tr>\n",
              "      <th>75%</th>\n",
              "      <td>1.244339e+18</td>\n",
              "      <td>9.088677e+17</td>\n",
              "      <td>1.244309e+18</td>\n",
              "      <td>3.439293e+09</td>\n",
              "      <td>9.387000e+03</td>\n",
              "      <td>1.000000</td>\n",
              "      <td>3.501000e+03</td>\n",
              "      <td>1.430000e+03</td>\n",
              "      <td>NaN</td>\n",
              "    </tr>\n",
              "    <tr>\n",
              "      <th>max</th>\n",
              "      <td>1.244414e+18</td>\n",
              "      <td>1.244411e+18</td>\n",
              "      <td>1.244414e+18</td>\n",
              "      <td>1.244402e+18</td>\n",
              "      <td>1.536144e+06</td>\n",
              "      <td>26508.000000</td>\n",
              "      <td>4.931557e+07</td>\n",
              "      <td>1.180649e+06</td>\n",
              "      <td>NaN</td>\n",
              "    </tr>\n",
              "  </tbody>\n",
              "</table>\n",
              "</div>"
            ],
            "text/plain": [
              "          status_id       user_id  ...  friends_count  account_lang\n",
              "count  5.641410e+05  5.641410e+05  ...   5.641410e+05           0.0\n",
              "mean   1.244256e+18  3.509791e+17  ...   2.028971e+03           NaN\n",
              "std    1.009210e+14  5.005893e+17  ...   1.023677e+04           NaN\n",
              "min    1.244052e+18  1.890000e+02  ...   0.000000e+00           NaN\n",
              "25%    1.244174e+18  1.835883e+08  ...   1.420000e+02           NaN\n",
              "50%    1.244275e+18  1.371141e+09  ...   4.840000e+02           NaN\n",
              "75%    1.244339e+18  9.088677e+17  ...   1.430000e+03           NaN\n",
              "max    1.244414e+18  1.244411e+18  ...   1.180649e+06           NaN\n",
              "\n",
              "[8 rows x 9 columns]"
            ]
          },
          "metadata": {
            "tags": []
          },
          "execution_count": 5
        }
      ]
    },
    {
      "cell_type": "code",
      "metadata": {
        "id": "6Qnm8Ww3hjeL",
        "colab_type": "code",
        "colab": {
          "base_uri": "https://localhost:8080/",
          "height": 255
        },
        "outputId": "4434ff47-24d6-4d2c-b08b-73f1d8ac546d"
      },
      "source": [
        "dataset.info"
      ],
      "execution_count": null,
      "outputs": [
        {
          "output_type": "execute_result",
          "data": {
            "text/plain": [
              "<bound method DataFrame.info of                   status_id              user_id  ... verified lang\n",
              "0       1244051646071611394   860252856829587457  ...    False   es\n",
              "1       1244051645039706112  1125933654943895553  ...    False   es\n",
              "2       1244051645975191557             80943559  ...    False   en\n",
              "3       1244051646750928897   817072420947247104  ...    False   es\n",
              "4       1244051647032102914   788863557349670913  ...    False   es\n",
              "...                     ...                  ...  ...      ...  ...\n",
              "564136  1244414024395218947  1028783469399367682  ...    False   en\n",
              "564137  1244414030011400192             81191957  ...     True   en\n",
              "564138  1244414029864603657             61206610  ...    False   en\n",
              "564139  1244414029189148672            259814704  ...    False   in\n",
              "564140  1244414030418067456   938881148792348672  ...    False   en\n",
              "\n",
              "[564141 rows x 22 columns]>"
            ]
          },
          "metadata": {
            "tags": []
          },
          "execution_count": 6
        }
      ]
    },
    {
      "cell_type": "markdown",
      "metadata": {
        "id": "5tg2HTU4uFIB",
        "colab_type": "text"
      },
      "source": [
        "Checking for missing values"
      ]
    },
    {
      "cell_type": "code",
      "metadata": {
        "id": "SuAZP9RmuJwS",
        "colab_type": "code",
        "colab": {
          "base_uri": "https://localhost:8080/",
          "height": 439
        },
        "outputId": "bb39c51d-9c84-427c-ea57-61234f2d3763"
      },
      "source": [
        "dataset.isnull()"
      ],
      "execution_count": null,
      "outputs": [
        {
          "output_type": "execute_result",
          "data": {
            "text/html": [
              "<div>\n",
              "<style scoped>\n",
              "    .dataframe tbody tr th:only-of-type {\n",
              "        vertical-align: middle;\n",
              "    }\n",
              "\n",
              "    .dataframe tbody tr th {\n",
              "        vertical-align: top;\n",
              "    }\n",
              "\n",
              "    .dataframe thead th {\n",
              "        text-align: right;\n",
              "    }\n",
              "</style>\n",
              "<table border=\"1\" class=\"dataframe\">\n",
              "  <thead>\n",
              "    <tr style=\"text-align: right;\">\n",
              "      <th></th>\n",
              "      <th>status_id</th>\n",
              "      <th>user_id</th>\n",
              "      <th>created_at</th>\n",
              "      <th>screen_name</th>\n",
              "      <th>text</th>\n",
              "      <th>source</th>\n",
              "      <th>reply_to_status_id</th>\n",
              "      <th>reply_to_user_id</th>\n",
              "      <th>reply_to_screen_name</th>\n",
              "      <th>is_quote</th>\n",
              "      <th>is_retweet</th>\n",
              "      <th>favourites_count</th>\n",
              "      <th>retweet_count</th>\n",
              "      <th>country_code</th>\n",
              "      <th>place_full_name</th>\n",
              "      <th>place_type</th>\n",
              "      <th>followers_count</th>\n",
              "      <th>friends_count</th>\n",
              "      <th>account_lang</th>\n",
              "      <th>account_created_at</th>\n",
              "      <th>verified</th>\n",
              "      <th>lang</th>\n",
              "    </tr>\n",
              "  </thead>\n",
              "  <tbody>\n",
              "    <tr>\n",
              "      <th>0</th>\n",
              "      <td>False</td>\n",
              "      <td>False</td>\n",
              "      <td>False</td>\n",
              "      <td>False</td>\n",
              "      <td>False</td>\n",
              "      <td>False</td>\n",
              "      <td>True</td>\n",
              "      <td>True</td>\n",
              "      <td>True</td>\n",
              "      <td>False</td>\n",
              "      <td>False</td>\n",
              "      <td>False</td>\n",
              "      <td>False</td>\n",
              "      <td>True</td>\n",
              "      <td>True</td>\n",
              "      <td>True</td>\n",
              "      <td>False</td>\n",
              "      <td>False</td>\n",
              "      <td>True</td>\n",
              "      <td>False</td>\n",
              "      <td>False</td>\n",
              "      <td>False</td>\n",
              "    </tr>\n",
              "    <tr>\n",
              "      <th>1</th>\n",
              "      <td>False</td>\n",
              "      <td>False</td>\n",
              "      <td>False</td>\n",
              "      <td>False</td>\n",
              "      <td>False</td>\n",
              "      <td>False</td>\n",
              "      <td>True</td>\n",
              "      <td>True</td>\n",
              "      <td>True</td>\n",
              "      <td>False</td>\n",
              "      <td>False</td>\n",
              "      <td>False</td>\n",
              "      <td>False</td>\n",
              "      <td>True</td>\n",
              "      <td>True</td>\n",
              "      <td>True</td>\n",
              "      <td>False</td>\n",
              "      <td>False</td>\n",
              "      <td>True</td>\n",
              "      <td>False</td>\n",
              "      <td>False</td>\n",
              "      <td>False</td>\n",
              "    </tr>\n",
              "    <tr>\n",
              "      <th>2</th>\n",
              "      <td>False</td>\n",
              "      <td>False</td>\n",
              "      <td>False</td>\n",
              "      <td>False</td>\n",
              "      <td>False</td>\n",
              "      <td>False</td>\n",
              "      <td>True</td>\n",
              "      <td>True</td>\n",
              "      <td>True</td>\n",
              "      <td>False</td>\n",
              "      <td>False</td>\n",
              "      <td>False</td>\n",
              "      <td>False</td>\n",
              "      <td>True</td>\n",
              "      <td>True</td>\n",
              "      <td>True</td>\n",
              "      <td>False</td>\n",
              "      <td>False</td>\n",
              "      <td>True</td>\n",
              "      <td>False</td>\n",
              "      <td>False</td>\n",
              "      <td>False</td>\n",
              "    </tr>\n",
              "    <tr>\n",
              "      <th>3</th>\n",
              "      <td>False</td>\n",
              "      <td>False</td>\n",
              "      <td>False</td>\n",
              "      <td>False</td>\n",
              "      <td>False</td>\n",
              "      <td>False</td>\n",
              "      <td>True</td>\n",
              "      <td>True</td>\n",
              "      <td>True</td>\n",
              "      <td>False</td>\n",
              "      <td>False</td>\n",
              "      <td>False</td>\n",
              "      <td>False</td>\n",
              "      <td>True</td>\n",
              "      <td>True</td>\n",
              "      <td>True</td>\n",
              "      <td>False</td>\n",
              "      <td>False</td>\n",
              "      <td>True</td>\n",
              "      <td>False</td>\n",
              "      <td>False</td>\n",
              "      <td>False</td>\n",
              "    </tr>\n",
              "    <tr>\n",
              "      <th>4</th>\n",
              "      <td>False</td>\n",
              "      <td>False</td>\n",
              "      <td>False</td>\n",
              "      <td>False</td>\n",
              "      <td>False</td>\n",
              "      <td>False</td>\n",
              "      <td>True</td>\n",
              "      <td>True</td>\n",
              "      <td>True</td>\n",
              "      <td>False</td>\n",
              "      <td>False</td>\n",
              "      <td>False</td>\n",
              "      <td>False</td>\n",
              "      <td>True</td>\n",
              "      <td>True</td>\n",
              "      <td>True</td>\n",
              "      <td>False</td>\n",
              "      <td>False</td>\n",
              "      <td>True</td>\n",
              "      <td>False</td>\n",
              "      <td>False</td>\n",
              "      <td>False</td>\n",
              "    </tr>\n",
              "    <tr>\n",
              "      <th>...</th>\n",
              "      <td>...</td>\n",
              "      <td>...</td>\n",
              "      <td>...</td>\n",
              "      <td>...</td>\n",
              "      <td>...</td>\n",
              "      <td>...</td>\n",
              "      <td>...</td>\n",
              "      <td>...</td>\n",
              "      <td>...</td>\n",
              "      <td>...</td>\n",
              "      <td>...</td>\n",
              "      <td>...</td>\n",
              "      <td>...</td>\n",
              "      <td>...</td>\n",
              "      <td>...</td>\n",
              "      <td>...</td>\n",
              "      <td>...</td>\n",
              "      <td>...</td>\n",
              "      <td>...</td>\n",
              "      <td>...</td>\n",
              "      <td>...</td>\n",
              "      <td>...</td>\n",
              "    </tr>\n",
              "    <tr>\n",
              "      <th>564136</th>\n",
              "      <td>False</td>\n",
              "      <td>False</td>\n",
              "      <td>False</td>\n",
              "      <td>False</td>\n",
              "      <td>False</td>\n",
              "      <td>False</td>\n",
              "      <td>True</td>\n",
              "      <td>True</td>\n",
              "      <td>True</td>\n",
              "      <td>False</td>\n",
              "      <td>False</td>\n",
              "      <td>False</td>\n",
              "      <td>False</td>\n",
              "      <td>True</td>\n",
              "      <td>True</td>\n",
              "      <td>True</td>\n",
              "      <td>False</td>\n",
              "      <td>False</td>\n",
              "      <td>True</td>\n",
              "      <td>False</td>\n",
              "      <td>False</td>\n",
              "      <td>False</td>\n",
              "    </tr>\n",
              "    <tr>\n",
              "      <th>564137</th>\n",
              "      <td>False</td>\n",
              "      <td>False</td>\n",
              "      <td>False</td>\n",
              "      <td>False</td>\n",
              "      <td>False</td>\n",
              "      <td>False</td>\n",
              "      <td>True</td>\n",
              "      <td>True</td>\n",
              "      <td>True</td>\n",
              "      <td>False</td>\n",
              "      <td>False</td>\n",
              "      <td>False</td>\n",
              "      <td>False</td>\n",
              "      <td>True</td>\n",
              "      <td>True</td>\n",
              "      <td>True</td>\n",
              "      <td>False</td>\n",
              "      <td>False</td>\n",
              "      <td>True</td>\n",
              "      <td>False</td>\n",
              "      <td>False</td>\n",
              "      <td>False</td>\n",
              "    </tr>\n",
              "    <tr>\n",
              "      <th>564138</th>\n",
              "      <td>False</td>\n",
              "      <td>False</td>\n",
              "      <td>False</td>\n",
              "      <td>False</td>\n",
              "      <td>False</td>\n",
              "      <td>False</td>\n",
              "      <td>True</td>\n",
              "      <td>True</td>\n",
              "      <td>True</td>\n",
              "      <td>False</td>\n",
              "      <td>False</td>\n",
              "      <td>False</td>\n",
              "      <td>False</td>\n",
              "      <td>True</td>\n",
              "      <td>True</td>\n",
              "      <td>True</td>\n",
              "      <td>False</td>\n",
              "      <td>False</td>\n",
              "      <td>True</td>\n",
              "      <td>False</td>\n",
              "      <td>False</td>\n",
              "      <td>False</td>\n",
              "    </tr>\n",
              "    <tr>\n",
              "      <th>564139</th>\n",
              "      <td>False</td>\n",
              "      <td>False</td>\n",
              "      <td>False</td>\n",
              "      <td>False</td>\n",
              "      <td>False</td>\n",
              "      <td>False</td>\n",
              "      <td>True</td>\n",
              "      <td>True</td>\n",
              "      <td>True</td>\n",
              "      <td>False</td>\n",
              "      <td>False</td>\n",
              "      <td>False</td>\n",
              "      <td>False</td>\n",
              "      <td>True</td>\n",
              "      <td>True</td>\n",
              "      <td>True</td>\n",
              "      <td>False</td>\n",
              "      <td>False</td>\n",
              "      <td>True</td>\n",
              "      <td>False</td>\n",
              "      <td>False</td>\n",
              "      <td>False</td>\n",
              "    </tr>\n",
              "    <tr>\n",
              "      <th>564140</th>\n",
              "      <td>False</td>\n",
              "      <td>False</td>\n",
              "      <td>False</td>\n",
              "      <td>False</td>\n",
              "      <td>False</td>\n",
              "      <td>False</td>\n",
              "      <td>True</td>\n",
              "      <td>True</td>\n",
              "      <td>True</td>\n",
              "      <td>False</td>\n",
              "      <td>False</td>\n",
              "      <td>False</td>\n",
              "      <td>False</td>\n",
              "      <td>True</td>\n",
              "      <td>True</td>\n",
              "      <td>True</td>\n",
              "      <td>False</td>\n",
              "      <td>False</td>\n",
              "      <td>True</td>\n",
              "      <td>False</td>\n",
              "      <td>False</td>\n",
              "      <td>False</td>\n",
              "    </tr>\n",
              "  </tbody>\n",
              "</table>\n",
              "<p>564141 rows × 22 columns</p>\n",
              "</div>"
            ],
            "text/plain": [
              "        status_id  user_id  created_at  ...  account_created_at  verified   lang\n",
              "0           False    False       False  ...               False     False  False\n",
              "1           False    False       False  ...               False     False  False\n",
              "2           False    False       False  ...               False     False  False\n",
              "3           False    False       False  ...               False     False  False\n",
              "4           False    False       False  ...               False     False  False\n",
              "...           ...      ...         ...  ...                 ...       ...    ...\n",
              "564136      False    False       False  ...               False     False  False\n",
              "564137      False    False       False  ...               False     False  False\n",
              "564138      False    False       False  ...               False     False  False\n",
              "564139      False    False       False  ...               False     False  False\n",
              "564140      False    False       False  ...               False     False  False\n",
              "\n",
              "[564141 rows x 22 columns]"
            ]
          },
          "metadata": {
            "tags": []
          },
          "execution_count": 7
        }
      ]
    },
    {
      "cell_type": "code",
      "metadata": {
        "id": "JpRiMGFnulZe",
        "colab_type": "code",
        "colab": {
          "base_uri": "https://localhost:8080/",
          "height": 34
        },
        "outputId": "5cae80ff-426b-425e-934c-4b41f8d513f7"
      },
      "source": [
        "dataset.isnull().values.any()"
      ],
      "execution_count": null,
      "outputs": [
        {
          "output_type": "execute_result",
          "data": {
            "text/plain": [
              "True"
            ]
          },
          "metadata": {
            "tags": []
          },
          "execution_count": 8
        }
      ]
    },
    {
      "cell_type": "code",
      "metadata": {
        "id": "llFh2rmxu9Lu",
        "colab_type": "code",
        "colab": {
          "base_uri": "https://localhost:8080/",
          "height": 408
        },
        "outputId": "78fb2104-6e5f-4bc8-88bb-2f4bccf3c20e"
      },
      "source": [
        "dataset.isnull().sum()"
      ],
      "execution_count": null,
      "outputs": [
        {
          "output_type": "execute_result",
          "data": {
            "text/plain": [
              "status_id                    0\n",
              "user_id                      0\n",
              "created_at                   0\n",
              "screen_name                  0\n",
              "text                         0\n",
              "source                       1\n",
              "reply_to_status_id      488174\n",
              "reply_to_user_id        473307\n",
              "reply_to_screen_name    473307\n",
              "is_quote                     0\n",
              "is_retweet                   0\n",
              "favourites_count             0\n",
              "retweet_count                0\n",
              "country_code            533629\n",
              "place_full_name         533446\n",
              "place_type              533446\n",
              "followers_count              0\n",
              "friends_count                0\n",
              "account_lang            564141\n",
              "account_created_at           0\n",
              "verified                     0\n",
              "lang                         0\n",
              "dtype: int64"
            ]
          },
          "metadata": {
            "tags": []
          },
          "execution_count": 9
        }
      ]
    },
    {
      "cell_type": "markdown",
      "metadata": {
        "id": "ddEzZv4JlaeI",
        "colab_type": "text"
      },
      "source": [
        "Handling missing values"
      ]
    },
    {
      "cell_type": "code",
      "metadata": {
        "id": "Y8ZyHWj1CIEP",
        "colab_type": "code",
        "colab": {
          "base_uri": "https://localhost:8080/",
          "height": 34
        },
        "outputId": "04eb4968-9da7-4afc-a4ae-718747dda7a8"
      },
      "source": [
        "cols_with_missing_values = [col for col in dataset.columns if dataset[col].isnull().sum()>1]\n",
        "print(cols_with_missing_values)"
      ],
      "execution_count": null,
      "outputs": [
        {
          "output_type": "stream",
          "text": [
            "['reply_to_status_id', 'reply_to_user_id', 'reply_to_screen_name', 'country_code', 'place_full_name', 'place_type', 'account_lang']\n"
          ],
          "name": "stdout"
        }
      ]
    },
    {
      "cell_type": "code",
      "metadata": {
        "id": "r4qxOQsuqvIJ",
        "colab_type": "code",
        "colab": {
          "base_uri": "https://localhost:8080/",
          "height": 255
        },
        "outputId": "33c7d36c-f5b5-42ab-852f-782504147d77"
      },
      "source": [
        "updated_dataset = dataset.drop(cols_with_missing_values, axis=1)\n",
        "print(updated_dataset)"
      ],
      "execution_count": null,
      "outputs": [
        {
          "output_type": "stream",
          "text": [
            "                  status_id              user_id  ... verified lang\n",
            "0       1244051646071611394   860252856829587457  ...    False   es\n",
            "1       1244051645039706112  1125933654943895553  ...    False   es\n",
            "2       1244051645975191557             80943559  ...    False   en\n",
            "3       1244051646750928897   817072420947247104  ...    False   es\n",
            "4       1244051647032102914   788863557349670913  ...    False   es\n",
            "...                     ...                  ...  ...      ...  ...\n",
            "564136  1244414024395218947  1028783469399367682  ...    False   en\n",
            "564137  1244414030011400192             81191957  ...     True   en\n",
            "564138  1244414029864603657             61206610  ...    False   en\n",
            "564139  1244414029189148672            259814704  ...    False   in\n",
            "564140  1244414030418067456   938881148792348672  ...    False   en\n",
            "\n",
            "[564141 rows x 15 columns]\n"
          ],
          "name": "stdout"
        }
      ]
    },
    {
      "cell_type": "code",
      "metadata": {
        "id": "QAagO2G8swQd",
        "colab_type": "code",
        "colab": {
          "base_uri": "https://localhost:8080/",
          "height": 102
        },
        "outputId": "08c1faa5-f9ad-4dfb-fb6a-3e6b730553ac"
      },
      "source": [
        "updated_dataset.columns"
      ],
      "execution_count": null,
      "outputs": [
        {
          "output_type": "execute_result",
          "data": {
            "text/plain": [
              "Index(['status_id', 'user_id', 'created_at', 'screen_name', 'text', 'source',\n",
              "       'is_quote', 'is_retweet', 'favourites_count', 'retweet_count',\n",
              "       'followers_count', 'friends_count', 'account_created_at', 'verified',\n",
              "       'lang'],\n",
              "      dtype='object')"
            ]
          },
          "metadata": {
            "tags": []
          },
          "execution_count": 12
        }
      ]
    },
    {
      "cell_type": "code",
      "metadata": {
        "id": "stNTcOuEucLn",
        "colab_type": "code",
        "colab": {
          "base_uri": "https://localhost:8080/",
          "height": 547
        },
        "outputId": "9bae300d-ab2e-42a9-ff30-1ad284a649d0"
      },
      "source": [
        "updated_dataset.head()"
      ],
      "execution_count": null,
      "outputs": [
        {
          "output_type": "execute_result",
          "data": {
            "text/html": [
              "<div>\n",
              "<style scoped>\n",
              "    .dataframe tbody tr th:only-of-type {\n",
              "        vertical-align: middle;\n",
              "    }\n",
              "\n",
              "    .dataframe tbody tr th {\n",
              "        vertical-align: top;\n",
              "    }\n",
              "\n",
              "    .dataframe thead th {\n",
              "        text-align: right;\n",
              "    }\n",
              "</style>\n",
              "<table border=\"1\" class=\"dataframe\">\n",
              "  <thead>\n",
              "    <tr style=\"text-align: right;\">\n",
              "      <th></th>\n",
              "      <th>status_id</th>\n",
              "      <th>user_id</th>\n",
              "      <th>created_at</th>\n",
              "      <th>screen_name</th>\n",
              "      <th>text</th>\n",
              "      <th>source</th>\n",
              "      <th>is_quote</th>\n",
              "      <th>is_retweet</th>\n",
              "      <th>favourites_count</th>\n",
              "      <th>retweet_count</th>\n",
              "      <th>followers_count</th>\n",
              "      <th>friends_count</th>\n",
              "      <th>account_created_at</th>\n",
              "      <th>verified</th>\n",
              "      <th>lang</th>\n",
              "    </tr>\n",
              "  </thead>\n",
              "  <tbody>\n",
              "    <tr>\n",
              "      <th>0</th>\n",
              "      <td>1244051646071611394</td>\n",
              "      <td>860252856829587457</td>\n",
              "      <td>2020-03-29T00:00:00Z</td>\n",
              "      <td>IMSS_SanLuis</td>\n",
              "      <td>Ante cualquier enfermedad respiratoria, no te ...</td>\n",
              "      <td>TweetDeck</td>\n",
              "      <td>False</td>\n",
              "      <td>False</td>\n",
              "      <td>300</td>\n",
              "      <td>0</td>\n",
              "      <td>1008</td>\n",
              "      <td>41</td>\n",
              "      <td>2017-05-04T22:00:38Z</td>\n",
              "      <td>False</td>\n",
              "      <td>es</td>\n",
              "    </tr>\n",
              "    <tr>\n",
              "      <th>1</th>\n",
              "      <td>1244051645039706112</td>\n",
              "      <td>1125933654943895553</td>\n",
              "      <td>2020-03-29T00:00:00Z</td>\n",
              "      <td>intrac_ccs</td>\n",
              "      <td>#ATENCIÃN En el Terminal Nuevo Circo se imple...</td>\n",
              "      <td>TweetDeck</td>\n",
              "      <td>False</td>\n",
              "      <td>False</td>\n",
              "      <td>1030</td>\n",
              "      <td>1</td>\n",
              "      <td>90</td>\n",
              "      <td>316</td>\n",
              "      <td>2019-05-08T01:21:16Z</td>\n",
              "      <td>False</td>\n",
              "      <td>es</td>\n",
              "    </tr>\n",
              "    <tr>\n",
              "      <th>2</th>\n",
              "      <td>1244051645975191557</td>\n",
              "      <td>80943559</td>\n",
              "      <td>2020-03-29T00:00:00Z</td>\n",
              "      <td>rlieving</td>\n",
              "      <td>âPeople are just storing up. They are stayin...</td>\n",
              "      <td>TweetDeck</td>\n",
              "      <td>False</td>\n",
              "      <td>False</td>\n",
              "      <td>604</td>\n",
              "      <td>0</td>\n",
              "      <td>136</td>\n",
              "      <td>457</td>\n",
              "      <td>2009-10-08T21:06:08Z</td>\n",
              "      <td>False</td>\n",
              "      <td>en</td>\n",
              "    </tr>\n",
              "    <tr>\n",
              "      <th>3</th>\n",
              "      <td>1244051646750928897</td>\n",
              "      <td>817072420947247104</td>\n",
              "      <td>2020-03-29T00:00:00Z</td>\n",
              "      <td>Tu_IMSS_Coah</td>\n",
              "      <td>Si empezaste a trabajar, necesitas dar de alta...</td>\n",
              "      <td>TweetDeck</td>\n",
              "      <td>False</td>\n",
              "      <td>False</td>\n",
              "      <td>1827</td>\n",
              "      <td>0</td>\n",
              "      <td>1549</td>\n",
              "      <td>170</td>\n",
              "      <td>2017-01-05T18:17:00Z</td>\n",
              "      <td>False</td>\n",
              "      <td>es</td>\n",
              "    </tr>\n",
              "    <tr>\n",
              "      <th>4</th>\n",
              "      <td>1244051647032102914</td>\n",
              "      <td>788863557349670913</td>\n",
              "      <td>2020-03-29T00:00:00Z</td>\n",
              "      <td>Tabasco_IMSS</td>\n",
              "      <td>Una sociedad informada estÃ¡ mejor preparada a...</td>\n",
              "      <td>TweetDeck</td>\n",
              "      <td>False</td>\n",
              "      <td>False</td>\n",
              "      <td>723</td>\n",
              "      <td>0</td>\n",
              "      <td>868</td>\n",
              "      <td>125</td>\n",
              "      <td>2016-10-19T22:05:03Z</td>\n",
              "      <td>False</td>\n",
              "      <td>es</td>\n",
              "    </tr>\n",
              "  </tbody>\n",
              "</table>\n",
              "</div>"
            ],
            "text/plain": [
              "             status_id              user_id  ... verified lang\n",
              "0  1244051646071611394   860252856829587457  ...    False   es\n",
              "1  1244051645039706112  1125933654943895553  ...    False   es\n",
              "2  1244051645975191557             80943559  ...    False   en\n",
              "3  1244051646750928897   817072420947247104  ...    False   es\n",
              "4  1244051647032102914   788863557349670913  ...    False   es\n",
              "\n",
              "[5 rows x 15 columns]"
            ]
          },
          "metadata": {
            "tags": []
          },
          "execution_count": 13
        }
      ]
    },
    {
      "cell_type": "markdown",
      "metadata": {
        "id": "t_UTUeHamNom",
        "colab_type": "text"
      },
      "source": [
        "Temporal frequency of tweets per hour"
      ]
    },
    {
      "cell_type": "code",
      "metadata": {
        "id": "sRF1Nrkd37fy",
        "colab_type": "code",
        "colab": {
          "base_uri": "https://localhost:8080/",
          "height": 404
        },
        "outputId": "ef6ec7f1-3a0d-4e68-e609-40dc2de526aa"
      },
      "source": [
        "fig = plt.figure(figsize=(15,6))\n",
        "ax = fig.add_subplot(111)\n",
        "ax.set(title='Temporal tweet frequency worldwide', xlabel='Time', ylabel='Tweet frequency per hour')\n",
        "plt.hist(pd.to_datetime(updated_dataset.created_at), bins = 25*10, color = 'b')\n",
        "plt.show()"
      ],
      "execution_count": null,
      "outputs": [
        {
          "output_type": "display_data",
          "data": {
            "image/png": "[encoded data removed]",
            "text/plain": [
              "<Figure size 1080x432 with 1 Axes>"
            ]
          },
          "metadata": {
            "tags": [],
            "needs_background": "light"
          }
        }
      ]
    },
    {
      "cell_type": "code",
      "metadata": {
        "id": "dcbB3mXzmULj",
        "colab_type": "code",
        "colab": {
          "base_uri": "https://localhost:8080/",
          "height": 34
        },
        "outputId": "1c79a971-7cb8-4824-f447-de7f2f91bdf2"
      },
      "source": [
        "print(len(updated_dataset[updated_dataset.lang == 'en']))"
      ],
      "execution_count": null,
      "outputs": [
        {
          "output_type": "stream",
          "text": [
            "313036\n"
          ],
          "name": "stdout"
        }
      ]
    },
    {
      "cell_type": "markdown",
      "metadata": {
        "id": "FmK2i55b-GHN",
        "colab_type": "text"
      },
      "source": [
        "Drop the columns other than lang = 'en'"
      ]
    },
    {
      "cell_type": "code",
      "metadata": {
        "id": "SmoCLpwYCeQt",
        "colab_type": "code",
        "colab": {
          "base_uri": "https://localhost:8080/",
          "height": 411
        },
        "outputId": "900c3a58-a4eb-46ef-b836-d1a17d8ef1d6"
      },
      "source": [
        "new_dataset = updated_dataset[updated_dataset['lang']=='en']\n",
        "new_dataset.head()\n",
        "# updated_dataset.drop(updated_dataset[updated_dataset['lang'] != 'en'].index, inplace = True)"
      ],
      "execution_count": null,
      "outputs": [
        {
          "output_type": "execute_result",
          "data": {
            "text/html": [
              "<div>\n",
              "<style scoped>\n",
              "    .dataframe tbody tr th:only-of-type {\n",
              "        vertical-align: middle;\n",
              "    }\n",
              "\n",
              "    .dataframe tbody tr th {\n",
              "        vertical-align: top;\n",
              "    }\n",
              "\n",
              "    .dataframe thead th {\n",
              "        text-align: right;\n",
              "    }\n",
              "</style>\n",
              "<table border=\"1\" class=\"dataframe\">\n",
              "  <thead>\n",
              "    <tr style=\"text-align: right;\">\n",
              "      <th></th>\n",
              "      <th>status_id</th>\n",
              "      <th>user_id</th>\n",
              "      <th>created_at</th>\n",
              "      <th>screen_name</th>\n",
              "      <th>text</th>\n",
              "      <th>source</th>\n",
              "      <th>is_quote</th>\n",
              "      <th>is_retweet</th>\n",
              "      <th>favourites_count</th>\n",
              "      <th>retweet_count</th>\n",
              "      <th>followers_count</th>\n",
              "      <th>friends_count</th>\n",
              "      <th>account_created_at</th>\n",
              "      <th>verified</th>\n",
              "      <th>lang</th>\n",
              "    </tr>\n",
              "  </thead>\n",
              "  <tbody>\n",
              "    <tr>\n",
              "      <th>2</th>\n",
              "      <td>1244051645975191557</td>\n",
              "      <td>80943559</td>\n",
              "      <td>2020-03-29T00:00:00Z</td>\n",
              "      <td>rlieving</td>\n",
              "      <td>âPeople are just storing up. They are stayin...</td>\n",
              "      <td>TweetDeck</td>\n",
              "      <td>False</td>\n",
              "      <td>False</td>\n",
              "      <td>604</td>\n",
              "      <td>0</td>\n",
              "      <td>136</td>\n",
              "      <td>457</td>\n",
              "      <td>2009-10-08T21:06:08Z</td>\n",
              "      <td>False</td>\n",
              "      <td>en</td>\n",
              "    </tr>\n",
              "    <tr>\n",
              "      <th>6</th>\n",
              "      <td>1244051646935633921</td>\n",
              "      <td>27922157</td>\n",
              "      <td>2020-03-29T00:00:00Z</td>\n",
              "      <td>AmerMedicalAssn</td>\n",
              "      <td>.@PatriceHarrisMD spoke with @YahooFinance abo...</td>\n",
              "      <td>Sprinklr</td>\n",
              "      <td>False</td>\n",
              "      <td>False</td>\n",
              "      <td>2894</td>\n",
              "      <td>3</td>\n",
              "      <td>714952</td>\n",
              "      <td>6877</td>\n",
              "      <td>2009-03-31T17:50:31Z</td>\n",
              "      <td>True</td>\n",
              "      <td>en</td>\n",
              "    </tr>\n",
              "    <tr>\n",
              "      <th>7</th>\n",
              "      <td>1244051645971025920</td>\n",
              "      <td>1115874631</td>\n",
              "      <td>2020-03-29T00:00:00Z</td>\n",
              "      <td>CGTNOfficial</td>\n",
              "      <td>First medical team aiding #Wuhan in fight agai...</td>\n",
              "      <td>Twitter Media Studio</td>\n",
              "      <td>False</td>\n",
              "      <td>False</td>\n",
              "      <td>65</td>\n",
              "      <td>18</td>\n",
              "      <td>14040072</td>\n",
              "      <td>55</td>\n",
              "      <td>2013-01-24T03:18:59Z</td>\n",
              "      <td>True</td>\n",
              "      <td>en</td>\n",
              "    </tr>\n",
              "    <tr>\n",
              "      <th>9</th>\n",
              "      <td>1244051647149543426</td>\n",
              "      <td>108845320</td>\n",
              "      <td>2020-03-29T00:00:00Z</td>\n",
              "      <td>OnTopMag</td>\n",
              "      <td>.@KathyGriffin: @realDonaldTrump Is 'Lying' Ab...</td>\n",
              "      <td>Twitter for Advertisers</td>\n",
              "      <td>False</td>\n",
              "      <td>False</td>\n",
              "      <td>2658</td>\n",
              "      <td>1</td>\n",
              "      <td>5042</td>\n",
              "      <td>5389</td>\n",
              "      <td>2010-01-27T05:23:15Z</td>\n",
              "      <td>False</td>\n",
              "      <td>en</td>\n",
              "    </tr>\n",
              "    <tr>\n",
              "      <th>14</th>\n",
              "      <td>1244051645102579712</td>\n",
              "      <td>17673635</td>\n",
              "      <td>2020-03-29T00:00:00Z</td>\n",
              "      <td>livemint</td>\n",
              "      <td>#CoronaUpdate | Johns Hopkins University has s...</td>\n",
              "      <td>TweetDeck</td>\n",
              "      <td>False</td>\n",
              "      <td>False</td>\n",
              "      <td>474</td>\n",
              "      <td>2</td>\n",
              "      <td>1862858</td>\n",
              "      <td>127</td>\n",
              "      <td>2008-11-27T09:07:38Z</td>\n",
              "      <td>True</td>\n",
              "      <td>en</td>\n",
              "    </tr>\n",
              "  </tbody>\n",
              "</table>\n",
              "</div>"
            ],
            "text/plain": [
              "              status_id     user_id  ... verified lang\n",
              "2   1244051645975191557    80943559  ...    False   en\n",
              "6   1244051646935633921    27922157  ...     True   en\n",
              "7   1244051645971025920  1115874631  ...     True   en\n",
              "9   1244051647149543426   108845320  ...    False   en\n",
              "14  1244051645102579712    17673635  ...     True   en\n",
              "\n",
              "[5 rows x 15 columns]"
            ]
          },
          "metadata": {
            "tags": []
          },
          "execution_count": 73
        }
      ]
    },
    {
      "cell_type": "code",
      "metadata": {
        "id": "hhpAY8xuTm0C",
        "colab_type": "code",
        "colab": {
          "base_uri": "https://localhost:8080/",
          "height": 428
        },
        "outputId": "3f805329-6314-4bde-82c6-63428e89df84"
      },
      "source": [
        "# Reset index\n",
        "new_dataset1 = new_dataset.reset_index(inplace = True)\n",
        "new_dataset.tail()"
      ],
      "execution_count": null,
      "outputs": [
        {
          "output_type": "execute_result",
          "data": {
            "text/html": [
              "<div>\n",
              "<style scoped>\n",
              "    .dataframe tbody tr th:only-of-type {\n",
              "        vertical-align: middle;\n",
              "    }\n",
              "\n",
              "    .dataframe tbody tr th {\n",
              "        vertical-align: top;\n",
              "    }\n",
              "\n",
              "    .dataframe thead th {\n",
              "        text-align: right;\n",
              "    }\n",
              "</style>\n",
              "<table border=\"1\" class=\"dataframe\">\n",
              "  <thead>\n",
              "    <tr style=\"text-align: right;\">\n",
              "      <th></th>\n",
              "      <th>index</th>\n",
              "      <th>status_id</th>\n",
              "      <th>user_id</th>\n",
              "      <th>created_at</th>\n",
              "      <th>screen_name</th>\n",
              "      <th>text</th>\n",
              "      <th>source</th>\n",
              "      <th>is_quote</th>\n",
              "      <th>is_retweet</th>\n",
              "      <th>favourites_count</th>\n",
              "      <th>retweet_count</th>\n",
              "      <th>followers_count</th>\n",
              "      <th>friends_count</th>\n",
              "      <th>account_created_at</th>\n",
              "      <th>verified</th>\n",
              "      <th>lang</th>\n",
              "    </tr>\n",
              "  </thead>\n",
              "  <tbody>\n",
              "    <tr>\n",
              "      <th>313031</th>\n",
              "      <td>564135</td>\n",
              "      <td>1244414024634302464</td>\n",
              "      <td>1085912953466048512</td>\n",
              "      <td>2020-03-29T23:59:58Z</td>\n",
              "      <td>RisatoNicola</td>\n",
              "      <td>#Trump extends #coronavirus guidelines, braces...</td>\n",
              "      <td>Twitter for Android</td>\n",
              "      <td>False</td>\n",
              "      <td>False</td>\n",
              "      <td>3575</td>\n",
              "      <td>1</td>\n",
              "      <td>160</td>\n",
              "      <td>97</td>\n",
              "      <td>2019-01-17T14:53:18Z</td>\n",
              "      <td>False</td>\n",
              "      <td>en</td>\n",
              "    </tr>\n",
              "    <tr>\n",
              "      <th>313032</th>\n",
              "      <td>564136</td>\n",
              "      <td>1244414024395218947</td>\n",
              "      <td>1028783469399367682</td>\n",
              "      <td>2020-03-29T23:59:58Z</td>\n",
              "      <td>tmcrypto1</td>\n",
              "      <td>A 3rd #NYPD member dies of #coronavirus after ...</td>\n",
              "      <td>Twitter for iPhone</td>\n",
              "      <td>False</td>\n",
              "      <td>False</td>\n",
              "      <td>2526</td>\n",
              "      <td>0</td>\n",
              "      <td>85</td>\n",
              "      <td>123</td>\n",
              "      <td>2018-08-12T23:21:07Z</td>\n",
              "      <td>False</td>\n",
              "      <td>en</td>\n",
              "    </tr>\n",
              "    <tr>\n",
              "      <th>313033</th>\n",
              "      <td>564137</td>\n",
              "      <td>1244414030011400192</td>\n",
              "      <td>81191957</td>\n",
              "      <td>2020-03-29T23:59:59Z</td>\n",
              "      <td>CALcharters</td>\n",
              "      <td>For many students in our state, #COVID19 closu...</td>\n",
              "      <td>HubSpot</td>\n",
              "      <td>False</td>\n",
              "      <td>False</td>\n",
              "      <td>4656</td>\n",
              "      <td>2</td>\n",
              "      <td>8104</td>\n",
              "      <td>2798</td>\n",
              "      <td>2009-10-09T20:10:36Z</td>\n",
              "      <td>True</td>\n",
              "      <td>en</td>\n",
              "    </tr>\n",
              "    <tr>\n",
              "      <th>313034</th>\n",
              "      <td>564138</td>\n",
              "      <td>1244414029864603657</td>\n",
              "      <td>61206610</td>\n",
              "      <td>2020-03-29T23:59:59Z</td>\n",
              "      <td>npquarterly</td>\n",
              "      <td>Will the #coronavirus pandemic of 2020 come to...</td>\n",
              "      <td>HubSpot</td>\n",
              "      <td>False</td>\n",
              "      <td>False</td>\n",
              "      <td>2916</td>\n",
              "      <td>2</td>\n",
              "      <td>127869</td>\n",
              "      <td>3046</td>\n",
              "      <td>2009-07-29T14:27:16Z</td>\n",
              "      <td>False</td>\n",
              "      <td>en</td>\n",
              "    </tr>\n",
              "    <tr>\n",
              "      <th>313035</th>\n",
              "      <td>564140</td>\n",
              "      <td>1244414030418067456</td>\n",
              "      <td>938881148792348672</td>\n",
              "      <td>2020-03-29T23:59:59Z</td>\n",
              "      <td>MeL8tleigh</td>\n",
              "      <td>ð¤¦ð»ââï¸ Is there a way to revoke som...</td>\n",
              "      <td>Twitter for iPhone</td>\n",
              "      <td>True</td>\n",
              "      <td>False</td>\n",
              "      <td>35055</td>\n",
              "      <td>0</td>\n",
              "      <td>302</td>\n",
              "      <td>384</td>\n",
              "      <td>2017-12-07T21:21:24Z</td>\n",
              "      <td>False</td>\n",
              "      <td>en</td>\n",
              "    </tr>\n",
              "  </tbody>\n",
              "</table>\n",
              "</div>"
            ],
            "text/plain": [
              "         index            status_id  ...  verified lang\n",
              "313031  564135  1244414024634302464  ...     False   en\n",
              "313032  564136  1244414024395218947  ...     False   en\n",
              "313033  564137  1244414030011400192  ...      True   en\n",
              "313034  564138  1244414029864603657  ...     False   en\n",
              "313035  564140  1244414030418067456  ...     False   en\n",
              "\n",
              "[5 rows x 16 columns]"
            ]
          },
          "metadata": {
            "tags": []
          },
          "execution_count": 74
        }
      ]
    },
    {
      "cell_type": "code",
      "metadata": {
        "id": "nuuVMim4_SFw",
        "colab_type": "code",
        "colab": {
          "base_uri": "https://localhost:8080/",
          "height": 142
        },
        "outputId": "0818f045-977f-4214-f2a1-b65a13d2e2a5"
      },
      "source": [
        "new_dataset.drop(['index', 'source', 'screen_name', 'lang', 'friends_count',\t'account_created_at',\t'verified', 'is_quote',\t'is_retweet',\t'favourites_count',\t'retweet_count', 'followers_count'], axis=1, inplace=True)\n",
        "new_dataset.tail(3)"
      ],
      "execution_count": null,
      "outputs": [
        {
          "output_type": "execute_result",
          "data": {
            "text/html": [
              "<div>\n",
              "<style scoped>\n",
              "    .dataframe tbody tr th:only-of-type {\n",
              "        vertical-align: middle;\n",
              "    }\n",
              "\n",
              "    .dataframe tbody tr th {\n",
              "        vertical-align: top;\n",
              "    }\n",
              "\n",
              "    .dataframe thead th {\n",
              "        text-align: right;\n",
              "    }\n",
              "</style>\n",
              "<table border=\"1\" class=\"dataframe\">\n",
              "  <thead>\n",
              "    <tr style=\"text-align: right;\">\n",
              "      <th></th>\n",
              "      <th>status_id</th>\n",
              "      <th>user_id</th>\n",
              "      <th>created_at</th>\n",
              "      <th>text</th>\n",
              "    </tr>\n",
              "  </thead>\n",
              "  <tbody>\n",
              "    <tr>\n",
              "      <th>313033</th>\n",
              "      <td>1244414030011400192</td>\n",
              "      <td>81191957</td>\n",
              "      <td>2020-03-29T23:59:59Z</td>\n",
              "      <td>For many students in our state, #COVID19 closu...</td>\n",
              "    </tr>\n",
              "    <tr>\n",
              "      <th>313034</th>\n",
              "      <td>1244414029864603657</td>\n",
              "      <td>61206610</td>\n",
              "      <td>2020-03-29T23:59:59Z</td>\n",
              "      <td>Will the #coronavirus pandemic of 2020 come to...</td>\n",
              "    </tr>\n",
              "    <tr>\n",
              "      <th>313035</th>\n",
              "      <td>1244414030418067456</td>\n",
              "      <td>938881148792348672</td>\n",
              "      <td>2020-03-29T23:59:59Z</td>\n",
              "      <td>ð¤¦ð»ââï¸ Is there a way to revoke som...</td>\n",
              "    </tr>\n",
              "  </tbody>\n",
              "</table>\n",
              "</div>"
            ],
            "text/plain": [
              "                  status_id  ...                                               text\n",
              "313033  1244414030011400192  ...  For many students in our state, #COVID19 closu...\n",
              "313034  1244414029864603657  ...  Will the #coronavirus pandemic of 2020 come to...\n",
              "313035  1244414030418067456  ...  ð¤¦ð»ââï¸ Is there a way to revoke som...\n",
              "\n",
              "[3 rows x 4 columns]"
            ]
          },
          "metadata": {
            "tags": []
          },
          "execution_count": 75
        }
      ]
    },
    {
      "cell_type": "code",
      "metadata": {
        "id": "ZCp_KgG2_H5S",
        "colab_type": "code",
        "colab": {
          "base_uri": "https://localhost:8080/",
          "height": 34
        },
        "outputId": "e73dcb29-c6f8-4e1a-96b9-b2cf408ab975"
      },
      "source": [
        "new_dataset.shape"
      ],
      "execution_count": null,
      "outputs": [
        {
          "output_type": "execute_result",
          "data": {
            "text/plain": [
              "(313036, 4)"
            ]
          },
          "metadata": {
            "tags": []
          },
          "execution_count": 76
        }
      ]
    },
    {
      "cell_type": "code",
      "metadata": {
        "id": "vRgd_JK3MZrp",
        "colab_type": "code",
        "colab": {
          "base_uri": "https://localhost:8080/",
          "height": 34
        },
        "outputId": "80fffbab-ec59-4e62-a92f-6a71ba8139fd"
      },
      "source": [
        "# No. of unique users\n",
        "new_dataset.user_id.unique().shape[0]"
      ],
      "execution_count": null,
      "outputs": [
        {
          "output_type": "execute_result",
          "data": {
            "text/plain": [
              "190147"
            ]
          },
          "metadata": {
            "tags": []
          },
          "execution_count": 77
        }
      ]
    },
    {
      "cell_type": "markdown",
      "metadata": {
        "id": "0OD3H6lAqfOE",
        "colab_type": "text"
      },
      "source": [
        "Selecting the tweets column"
      ]
    },
    {
      "cell_type": "code",
      "metadata": {
        "id": "zFOj99OiqRNn",
        "colab_type": "code",
        "colab": {
          "base_uri": "https://localhost:8080/",
          "height": 119
        },
        "outputId": "693340a7-1be4-49c2-8b96-2e4937f1411c"
      },
      "source": [
        "tweets = new_dataset['text']\n",
        "tweets.head()"
      ],
      "execution_count": null,
      "outputs": [
        {
          "output_type": "execute_result",
          "data": {
            "text/plain": [
              "0    âPeople are just storing up. They are stayin...\n",
              "1    .@PatriceHarrisMD spoke with @YahooFinance abo...\n",
              "2    First medical team aiding #Wuhan in fight agai...\n",
              "3    .@KathyGriffin: @realDonaldTrump Is 'Lying' Ab...\n",
              "4    #CoronaUpdate | Johns Hopkins University has s...\n",
              "Name: text, dtype: object"
            ]
          },
          "metadata": {
            "tags": []
          },
          "execution_count": 78
        }
      ]
    },
    {
      "cell_type": "markdown",
      "metadata": {
        "id": "KJ0qI8dQqzVw",
        "colab_type": "text"
      },
      "source": [
        "Data preprocessing"
      ]
    },
    {
      "cell_type": "code",
      "metadata": {
        "id": "A5EPkE0hq1Xf",
        "colab_type": "code",
        "colab": {
          "base_uri": "https://localhost:8080/",
          "height": 119
        },
        "outputId": "e65a3ebe-d747-40f9-89ea-a61679c44ebd"
      },
      "source": [
        "# Removing urls, mentions and hashtags\n",
        "tweets = tweets.apply(lambda x: re.sub(r\"@\\S+\", \"\", str(x)))\n",
        "tweets = tweets.apply(lambda x: re.sub(r'#\\S+', '', str(x)))\n",
        "tweets_no_url = tweets.apply(lambda x: re.sub(r\"https\\S+\", \"\", str(x)))\n",
        "tweets_no_url.head()"
      ],
      "execution_count": null,
      "outputs": [
        {
          "output_type": "execute_result",
          "data": {
            "text/plain": [
              "0    âPeople are just storing up. They are stayin...\n",
              "1    . spoke with  about the  stimulus package maki...\n",
              "2    First medical team aiding  in fight against ep...\n",
              "3                      .  Is 'Lying' About  Testing   \n",
              "4     | Johns Hopkins University has said it did no...\n",
              "Name: text, dtype: object"
            ]
          },
          "metadata": {
            "tags": []
          },
          "execution_count": 79
        }
      ]
    },
    {
      "cell_type": "code",
      "metadata": {
        "id": "aNL1uSikZCcD",
        "colab_type": "code",
        "colab": {
          "base_uri": "https://localhost:8080/",
          "height": 52
        },
        "outputId": "ff6e4b2e-ab5c-4d09-d3d7-af283f89df86"
      },
      "source": [
        "# Removing punctuation and converting one tweet to lowercase\n",
        "texts = \"\".join([word.lower() for word in tweets_no_url[0] if word not in string.punctuation])\n",
        "texts"
      ],
      "execution_count": null,
      "outputs": [
        {
          "output_type": "execute_result",
          "data": {
            "application/vnd.google.colaboratory.intrinsic": {
              "type": "string"
            },
            "text/plain": [
              "'â\\x80\\x9cpeople are just storing up they are staying at home freezing things i talk to dealers around the state and out of the area they are all out of freezersâ\\x80\\x9d said owner frank mertz\\n\\n\\n\\n    '"
            ]
          },
          "metadata": {
            "tags": []
          },
          "execution_count": 80
        }
      ]
    },
    {
      "cell_type": "code",
      "metadata": {
        "id": "nOO7Xz6HiF4P",
        "colab_type": "code",
        "colab": {
          "base_uri": "https://localhost:8080/",
          "height": 221
        },
        "outputId": "e9f594c7-3151-4ec7-d922-24183c659087"
      },
      "source": [
        "# lower and remove the punctuation from text\n",
        "texts = tweets_no_url.apply(lambda x: x.lower())\n",
        "texts = texts.apply(lambda x: x.translate(str.maketrans('', '', string.punctuation)))\n",
        "texts"
      ],
      "execution_count": null,
      "outputs": [
        {
          "output_type": "execute_result",
          "data": {
            "text/plain": [
              "0         âpeople are just storing up they are staying...\n",
              "1          spoke with  about the  stimulus package makin...\n",
              "2         first medical team aiding  in fight against ep...\n",
              "3                                is lying about  testing   \n",
              "4           johns hopkins university has said it did not...\n",
              "                                ...                        \n",
              "313031     extends  guidelines braces  for big death tol...\n",
              "313032    a 3rd  member dies of  after hundreds of offic...\n",
              "313033    for many students in our state  closures are i...\n",
              "313034    will the  pandemic of 2020 come to be seen as ...\n",
              "313035    ð¤¦ð»ââï¸ is there a way to revoke som...\n",
              "Name: text, Length: 313036, dtype: object"
            ]
          },
          "metadata": {
            "tags": []
          },
          "execution_count": 81
        }
      ]
    },
    {
      "cell_type": "code",
      "metadata": {
        "id": "YF_21R770FS3",
        "colab_type": "code",
        "colab": {
          "base_uri": "https://localhost:8080/",
          "height": 221
        },
        "outputId": "689be5bc-429c-47f9-953f-afde4fd52c4f"
      },
      "source": [
        "# Remove stopwords\n",
        "stop_words = set(stopwords.words('english'))\n",
        "texts = texts.apply(lambda x: ' '.join([word for word in x.split() if word not in stop_words]))\n",
        "texts"
      ],
      "execution_count": null,
      "outputs": [
        {
          "output_type": "execute_result",
          "data": {
            "text/plain": [
              "0         âpeople storing staying home freezing things...\n",
              "1         spoke stimulus package making way congress hea...\n",
              "2         first medical team aiding fight epidemic compl...\n",
              "3                                             lying testing\n",
              "4         johns hopkins university said authorize use lo...\n",
              "                                ...                        \n",
              "313031             extends guidelines braces big death toll\n",
              "313032      3rd member dies hundreds officers test positive\n",
              "313033    many students state closures impacting ability...\n",
              "313034    pandemic 2020 come seen momentary interruption...\n",
              "313035    ð¤¦ð»ââï¸ way revoke someoneâs twitt...\n",
              "Name: text, Length: 313036, dtype: object"
            ]
          },
          "metadata": {
            "tags": []
          },
          "execution_count": 82
        }
      ]
    },
    {
      "cell_type": "code",
      "metadata": {
        "id": "poq9srz4P_Wx",
        "colab_type": "code",
        "colab": {
          "base_uri": "https://localhost:8080/",
          "height": 85
        },
        "outputId": "c9c41202-5eec-45dd-9e53-c6cf81693cdb"
      },
      "source": [
        "# Remove all special characters and emojis\n",
        "texts = texts.apply(lambda x: re.sub('[^a-zA-Z0-9#]', ' ', str(x)))\n",
        "texts.head(3)"
      ],
      "execution_count": null,
      "outputs": [
        {
          "output_type": "execute_result",
          "data": {
            "text/plain": [
              "0       people storing staying home freezing things...\n",
              "1    spoke stimulus package making way congress hea...\n",
              "2    first medical team aiding fight epidemic compl...\n",
              "Name: text, dtype: object"
            ]
          },
          "metadata": {
            "tags": []
          },
          "execution_count": 83
        }
      ]
    },
    {
      "cell_type": "code",
      "metadata": {
        "id": "iqt92rq_93hk",
        "colab_type": "code",
        "colab": {
          "base_uri": "https://localhost:8080/",
          "height": 221
        },
        "outputId": "8d7850be-6c32-4f33-dcb1-a1dc42686f82"
      },
      "source": [
        "# removing spaces from first and last of the tweets\n",
        "texts = texts.apply(lambda x: x.strip())\n",
        "texts"
      ],
      "execution_count": null,
      "outputs": [
        {
          "output_type": "execute_result",
          "data": {
            "text/plain": [
              "0         people storing staying home freezing things ta...\n",
              "1         spoke stimulus package making way congress hea...\n",
              "2         first medical team aiding fight epidemic compl...\n",
              "3                                             lying testing\n",
              "4         johns hopkins university said authorize use lo...\n",
              "                                ...                        \n",
              "313031             extends guidelines braces big death toll\n",
              "313032      3rd member dies hundreds officers test positive\n",
              "313033    many students state closures impacting ability...\n",
              "313034    pandemic 2020 come seen momentary interruption...\n",
              "313035    way revoke someone   s twitter account petitio...\n",
              "Name: text, Length: 313036, dtype: object"
            ]
          },
          "metadata": {
            "tags": []
          },
          "execution_count": 84
        }
      ]
    },
    {
      "cell_type": "code",
      "metadata": {
        "id": "KjcZ155Mp1xT",
        "colab_type": "code",
        "colab": {
          "base_uri": "https://localhost:8080/",
          "height": 204
        },
        "outputId": "9010eee7-533b-407e-99c7-f032202c43d2"
      },
      "source": [
        "tweets_dt = texts.to_frame()\n",
        "tweets_dt.head()"
      ],
      "execution_count": null,
      "outputs": [
        {
          "output_type": "execute_result",
          "data": {
            "text/html": [
              "<div>\n",
              "<style scoped>\n",
              "    .dataframe tbody tr th:only-of-type {\n",
              "        vertical-align: middle;\n",
              "    }\n",
              "\n",
              "    .dataframe tbody tr th {\n",
              "        vertical-align: top;\n",
              "    }\n",
              "\n",
              "    .dataframe thead th {\n",
              "        text-align: right;\n",
              "    }\n",
              "</style>\n",
              "<table border=\"1\" class=\"dataframe\">\n",
              "  <thead>\n",
              "    <tr style=\"text-align: right;\">\n",
              "      <th></th>\n",
              "      <th>text</th>\n",
              "    </tr>\n",
              "  </thead>\n",
              "  <tbody>\n",
              "    <tr>\n",
              "      <th>0</th>\n",
              "      <td>people storing staying home freezing things ta...</td>\n",
              "    </tr>\n",
              "    <tr>\n",
              "      <th>1</th>\n",
              "      <td>spoke stimulus package making way congress hea...</td>\n",
              "    </tr>\n",
              "    <tr>\n",
              "      <th>2</th>\n",
              "      <td>first medical team aiding fight epidemic compl...</td>\n",
              "    </tr>\n",
              "    <tr>\n",
              "      <th>3</th>\n",
              "      <td>lying testing</td>\n",
              "    </tr>\n",
              "    <tr>\n",
              "      <th>4</th>\n",
              "      <td>johns hopkins university said authorize use lo...</td>\n",
              "    </tr>\n",
              "  </tbody>\n",
              "</table>\n",
              "</div>"
            ],
            "text/plain": [
              "                                                text\n",
              "0  people storing staying home freezing things ta...\n",
              "1  spoke stimulus package making way congress hea...\n",
              "2  first medical team aiding fight epidemic compl...\n",
              "3                                      lying testing\n",
              "4  johns hopkins university said authorize use lo..."
            ]
          },
          "metadata": {
            "tags": []
          },
          "execution_count": 85
        }
      ]
    },
    {
      "cell_type": "code",
      "metadata": {
        "id": "E2GomLBD2g0h",
        "colab_type": "code",
        "colab": {}
      },
      "source": [
        "new_dataset['cleaned_text'] = tweets_dt['text']"
      ],
      "execution_count": null,
      "outputs": []
    },
    {
      "cell_type": "code",
      "metadata": {
        "id": "UoAaYH--2vCk",
        "colab_type": "code",
        "colab": {
          "base_uri": "https://localhost:8080/",
          "height": 204
        },
        "outputId": "4fe791bb-404d-48ec-f4fe-ea43aacb2ef1"
      },
      "source": [
        "new_dataset.head()"
      ],
      "execution_count": null,
      "outputs": [
        {
          "output_type": "execute_result",
          "data": {
            "text/html": [
              "<div>\n",
              "<style scoped>\n",
              "    .dataframe tbody tr th:only-of-type {\n",
              "        vertical-align: middle;\n",
              "    }\n",
              "\n",
              "    .dataframe tbody tr th {\n",
              "        vertical-align: top;\n",
              "    }\n",
              "\n",
              "    .dataframe thead th {\n",
              "        text-align: right;\n",
              "    }\n",
              "</style>\n",
              "<table border=\"1\" class=\"dataframe\">\n",
              "  <thead>\n",
              "    <tr style=\"text-align: right;\">\n",
              "      <th></th>\n",
              "      <th>status_id</th>\n",
              "      <th>user_id</th>\n",
              "      <th>created_at</th>\n",
              "      <th>text</th>\n",
              "      <th>cleaned_text</th>\n",
              "    </tr>\n",
              "  </thead>\n",
              "  <tbody>\n",
              "    <tr>\n",
              "      <th>0</th>\n",
              "      <td>1244051645975191557</td>\n",
              "      <td>80943559</td>\n",
              "      <td>2020-03-29T00:00:00Z</td>\n",
              "      <td>âPeople are just storing up. They are stayin...</td>\n",
              "      <td>people storing staying home freezing things ta...</td>\n",
              "    </tr>\n",
              "    <tr>\n",
              "      <th>1</th>\n",
              "      <td>1244051646935633921</td>\n",
              "      <td>27922157</td>\n",
              "      <td>2020-03-29T00:00:00Z</td>\n",
              "      <td>.@PatriceHarrisMD spoke with @YahooFinance abo...</td>\n",
              "      <td>spoke stimulus package making way congress hea...</td>\n",
              "    </tr>\n",
              "    <tr>\n",
              "      <th>2</th>\n",
              "      <td>1244051645971025920</td>\n",
              "      <td>1115874631</td>\n",
              "      <td>2020-03-29T00:00:00Z</td>\n",
              "      <td>First medical team aiding #Wuhan in fight agai...</td>\n",
              "      <td>first medical team aiding fight epidemic compl...</td>\n",
              "    </tr>\n",
              "    <tr>\n",
              "      <th>3</th>\n",
              "      <td>1244051647149543426</td>\n",
              "      <td>108845320</td>\n",
              "      <td>2020-03-29T00:00:00Z</td>\n",
              "      <td>.@KathyGriffin: @realDonaldTrump Is 'Lying' Ab...</td>\n",
              "      <td>lying testing</td>\n",
              "    </tr>\n",
              "    <tr>\n",
              "      <th>4</th>\n",
              "      <td>1244051645102579712</td>\n",
              "      <td>17673635</td>\n",
              "      <td>2020-03-29T00:00:00Z</td>\n",
              "      <td>#CoronaUpdate | Johns Hopkins University has s...</td>\n",
              "      <td>johns hopkins university said authorize use lo...</td>\n",
              "    </tr>\n",
              "  </tbody>\n",
              "</table>\n",
              "</div>"
            ],
            "text/plain": [
              "             status_id  ...                                       cleaned_text\n",
              "0  1244051645975191557  ...  people storing staying home freezing things ta...\n",
              "1  1244051646935633921  ...  spoke stimulus package making way congress hea...\n",
              "2  1244051645971025920  ...  first medical team aiding fight epidemic compl...\n",
              "3  1244051647149543426  ...                                      lying testing\n",
              "4  1244051645102579712  ...  johns hopkins university said authorize use lo...\n",
              "\n",
              "[5 rows x 5 columns]"
            ]
          },
          "metadata": {
            "tags": []
          },
          "execution_count": 87
        }
      ]
    },
    {
      "cell_type": "code",
      "metadata": {
        "id": "ikxaCpZCFf5I",
        "colab_type": "code",
        "colab": {
          "base_uri": "https://localhost:8080/",
          "height": 187
        },
        "outputId": "8b3b8364-4501-495f-b105-98ade3b46506"
      },
      "source": [
        "# All tweets combined\n",
        "all_words = \" \".join(tweets_dt.text)\n",
        "all_words.split()[5000:5010]"
      ],
      "execution_count": null,
      "outputs": [
        {
          "output_type": "execute_result",
          "data": {
            "text/plain": [
              "['words',\n",
              " 'tests',\n",
              " 'positive',\n",
              " 'really',\n",
              " 'mean',\n",
              " 'breaking',\n",
              " 'nerve',\n",
              " 'reported',\n",
              " 'casualties',\n",
              " 'doubled']"
            ]
          },
          "metadata": {
            "tags": []
          },
          "execution_count": 88
        }
      ]
    },
    {
      "cell_type": "markdown",
      "metadata": {
        "id": "mWXNj6IcXN-I",
        "colab_type": "text"
      },
      "source": [
        "Forming wordcloud with most common words"
      ]
    },
    {
      "cell_type": "code",
      "metadata": {
        "id": "PLWuHJc8XTK0",
        "colab_type": "code",
        "colab": {
          "base_uri": "https://localhost:8080/",
          "height": 232
        },
        "outputId": "25c0be72-1a0b-4d4b-e37e-8a781a2b28f1"
      },
      "source": [
        "wordcloud = WordCloud(height=6000, width=10000, stopwords=STOPWORDS, max_words = 500, background_color='white')\n",
        "wordcloud = wordcloud.generate(all_words)\n",
        "plt.imshow(wordcloud, interpolation = 'gaussian')\n",
        "plt.axis('off')\n",
        "plt.show()"
      ],
      "execution_count": null,
      "outputs": [
        {
          "output_type": "display_data",
          "data": {
            "image/png": "[encoded data removed]",
            "text/plain": [
              "<Figure size 432x288 with 1 Axes>"
            ]
          },
          "metadata": {
            "tags": [],
            "needs_background": "light"
          }
        }
      ]
    },
    {
      "cell_type": "code",
      "metadata": {
        "id": "q6O_R-Vj_XVy",
        "colab_type": "code",
        "colab": {
          "base_uri": "https://localhost:8080/",
          "height": 35
        },
        "outputId": "e33b8d6b-4dad-4643-c83e-e4ac2b11a493"
      },
      "source": [
        "tweets_dt.text[0]"
      ],
      "execution_count": null,
      "outputs": [
        {
          "output_type": "execute_result",
          "data": {
            "application/vnd.google.colaboratory.intrinsic": {
              "type": "string"
            },
            "text/plain": [
              "'people storing staying home freezing things talk dealers around state area freezers    said owner frank mertz'"
            ]
          },
          "metadata": {
            "tags": []
          },
          "execution_count": 104
        }
      ]
    },
    {
      "cell_type": "code",
      "metadata": {
        "id": "_HI7Fi4aVdwO",
        "colab_type": "code",
        "colab": {}
      },
      "source": [
        "sid = SentimentIntensityAnalyzer()\n",
        "sentiment_scores = texts.apply(lambda x: sid.polarity_scores(x))\n",
        "sent_scores_df = pd.DataFrame(list(sentiment_scores))\n"
      ],
      "execution_count": null,
      "outputs": []
    },
    {
      "cell_type": "code",
      "metadata": {
        "id": "iYnjemPItsM1",
        "colab_type": "code",
        "colab": {
          "base_uri": "https://localhost:8080/",
          "height": 289
        },
        "outputId": "db7526fc-c883-429c-d2b1-10b789d9a779"
      },
      "source": [
        "new_dataset['compound_sentiment'] = sent_scores_df['compound']\n",
        "new_dataset.head()"
      ],
      "execution_count": null,
      "outputs": [
        {
          "output_type": "execute_result",
          "data": {
            "text/html": [
              "<div>\n",
              "<style scoped>\n",
              "    .dataframe tbody tr th:only-of-type {\n",
              "        vertical-align: middle;\n",
              "    }\n",
              "\n",
              "    .dataframe tbody tr th {\n",
              "        vertical-align: top;\n",
              "    }\n",
              "\n",
              "    .dataframe thead th {\n",
              "        text-align: right;\n",
              "    }\n",
              "</style>\n",
              "<table border=\"1\" class=\"dataframe\">\n",
              "  <thead>\n",
              "    <tr style=\"text-align: right;\">\n",
              "      <th></th>\n",
              "      <th>status_id</th>\n",
              "      <th>user_id</th>\n",
              "      <th>created_at</th>\n",
              "      <th>text</th>\n",
              "      <th>cleaned_text</th>\n",
              "      <th>compound_sentiment</th>\n",
              "    </tr>\n",
              "  </thead>\n",
              "  <tbody>\n",
              "    <tr>\n",
              "      <th>0</th>\n",
              "      <td>1244051645975191557</td>\n",
              "      <td>80943559</td>\n",
              "      <td>2020-03-29T00:00:00Z</td>\n",
              "      <td>âPeople are just storing up. They are stayin...</td>\n",
              "      <td>people storing staying home freezing things ta...</td>\n",
              "      <td>-0.1280</td>\n",
              "    </tr>\n",
              "    <tr>\n",
              "      <th>1</th>\n",
              "      <td>1244051646935633921</td>\n",
              "      <td>27922157</td>\n",
              "      <td>2020-03-29T00:00:00Z</td>\n",
              "      <td>.@PatriceHarrisMD spoke with @YahooFinance abo...</td>\n",
              "      <td>spoke stimulus package making way congress hea...</td>\n",
              "      <td>0.0000</td>\n",
              "    </tr>\n",
              "    <tr>\n",
              "      <th>2</th>\n",
              "      <td>1244051645971025920</td>\n",
              "      <td>1115874631</td>\n",
              "      <td>2020-03-29T00:00:00Z</td>\n",
              "      <td>First medical team aiding #Wuhan in fight agai...</td>\n",
              "      <td>first medical team aiding fight epidemic compl...</td>\n",
              "      <td>-0.3818</td>\n",
              "    </tr>\n",
              "    <tr>\n",
              "      <th>3</th>\n",
              "      <td>1244051647149543426</td>\n",
              "      <td>108845320</td>\n",
              "      <td>2020-03-29T00:00:00Z</td>\n",
              "      <td>.@KathyGriffin: @realDonaldTrump Is 'Lying' Ab...</td>\n",
              "      <td>lying testing</td>\n",
              "      <td>-0.5267</td>\n",
              "    </tr>\n",
              "    <tr>\n",
              "      <th>4</th>\n",
              "      <td>1244051645102579712</td>\n",
              "      <td>17673635</td>\n",
              "      <td>2020-03-29T00:00:00Z</td>\n",
              "      <td>#CoronaUpdate | Johns Hopkins University has s...</td>\n",
              "      <td>johns hopkins university said authorize use lo...</td>\n",
              "      <td>0.0000</td>\n",
              "    </tr>\n",
              "  </tbody>\n",
              "</table>\n",
              "</div>"
            ],
            "text/plain": [
              "             status_id  ...  compound_sentiment\n",
              "0  1244051645975191557  ...             -0.1280\n",
              "1  1244051646935633921  ...              0.0000\n",
              "2  1244051645971025920  ...             -0.3818\n",
              "3  1244051647149543426  ...             -0.5267\n",
              "4  1244051645102579712  ...              0.0000\n",
              "\n",
              "[5 rows x 6 columns]"
            ]
          },
          "metadata": {
            "tags": []
          },
          "execution_count": 92
        }
      ]
    },
    {
      "cell_type": "code",
      "metadata": {
        "id": "k1bHTkx72Muh",
        "colab_type": "code",
        "colab": {}
      },
      "source": [
        "# Forming condition for labeling the dataset with sentiment po;arity\n",
        "def condition(data):\n",
        "    if (data['compound_sentiment'] > 0):\n",
        "      return 'Positive'\n",
        "    elif (data['compound_sentiment'] == 0):\n",
        "      return 'Neutral'\n",
        "    elif (data['compound_sentiment'] < 0):\n",
        "      return 'Negative'"
      ],
      "execution_count": null,
      "outputs": []
    },
    {
      "cell_type": "code",
      "metadata": {
        "id": "xojKy1XB2x9a",
        "colab_type": "code",
        "colab": {}
      },
      "source": [
        "new_dataset['Polarity'] = new_dataset.apply(condition, axis=1)"
      ],
      "execution_count": null,
      "outputs": []
    },
    {
      "cell_type": "code",
      "metadata": {
        "id": "xtN3nqIt3LLC",
        "colab_type": "code",
        "colab": {
          "base_uri": "https://localhost:8080/",
          "height": 193
        },
        "outputId": "7be33a75-36ab-4922-fd12-638edb40e902"
      },
      "source": [
        "new_dataset.head(3)"
      ],
      "execution_count": null,
      "outputs": [
        {
          "output_type": "execute_result",
          "data": {
            "text/html": [
              "<div>\n",
              "<style scoped>\n",
              "    .dataframe tbody tr th:only-of-type {\n",
              "        vertical-align: middle;\n",
              "    }\n",
              "\n",
              "    .dataframe tbody tr th {\n",
              "        vertical-align: top;\n",
              "    }\n",
              "\n",
              "    .dataframe thead th {\n",
              "        text-align: right;\n",
              "    }\n",
              "</style>\n",
              "<table border=\"1\" class=\"dataframe\">\n",
              "  <thead>\n",
              "    <tr style=\"text-align: right;\">\n",
              "      <th></th>\n",
              "      <th>status_id</th>\n",
              "      <th>user_id</th>\n",
              "      <th>created_at</th>\n",
              "      <th>text</th>\n",
              "      <th>cleaned_text</th>\n",
              "      <th>compound_sentiment</th>\n",
              "      <th>Polarity</th>\n",
              "    </tr>\n",
              "  </thead>\n",
              "  <tbody>\n",
              "    <tr>\n",
              "      <th>0</th>\n",
              "      <td>1244051645975191557</td>\n",
              "      <td>80943559</td>\n",
              "      <td>2020-03-29T00:00:00Z</td>\n",
              "      <td>âPeople are just storing up. They are stayin...</td>\n",
              "      <td>people storing staying home freezing things ta...</td>\n",
              "      <td>-0.1280</td>\n",
              "      <td>Negative</td>\n",
              "    </tr>\n",
              "    <tr>\n",
              "      <th>1</th>\n",
              "      <td>1244051646935633921</td>\n",
              "      <td>27922157</td>\n",
              "      <td>2020-03-29T00:00:00Z</td>\n",
              "      <td>.@PatriceHarrisMD spoke with @YahooFinance abo...</td>\n",
              "      <td>spoke stimulus package making way congress hea...</td>\n",
              "      <td>0.0000</td>\n",
              "      <td>Neutral</td>\n",
              "    </tr>\n",
              "    <tr>\n",
              "      <th>2</th>\n",
              "      <td>1244051645971025920</td>\n",
              "      <td>1115874631</td>\n",
              "      <td>2020-03-29T00:00:00Z</td>\n",
              "      <td>First medical team aiding #Wuhan in fight agai...</td>\n",
              "      <td>first medical team aiding fight epidemic compl...</td>\n",
              "      <td>-0.3818</td>\n",
              "      <td>Negative</td>\n",
              "    </tr>\n",
              "  </tbody>\n",
              "</table>\n",
              "</div>"
            ],
            "text/plain": [
              "             status_id     user_id  ... compound_sentiment  Polarity\n",
              "0  1244051645975191557    80943559  ...            -0.1280  Negative\n",
              "1  1244051646935633921    27922157  ...             0.0000   Neutral\n",
              "2  1244051645971025920  1115874631  ...            -0.3818  Negative\n",
              "\n",
              "[3 rows x 7 columns]"
            ]
          },
          "metadata": {
            "tags": []
          },
          "execution_count": 110
        }
      ]
    }
  ]
}